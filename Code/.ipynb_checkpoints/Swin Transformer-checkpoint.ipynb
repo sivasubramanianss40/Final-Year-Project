{
 "cells": [
  {
   "cell_type": "code",
   "execution_count": null,
   "id": "570c277f-9118-437b-83b3-bc6a66382c2c",
   "metadata": {},
   "outputs": [],
   "source": [
    "pip install torch torchvision timm"
   ]
  },
  {
   "cell_type": "code",
   "execution_count": null,
   "id": "6b3e404e-b5ad-4f4b-bae6-02256a031358",
   "metadata": {},
   "outputs": [],
   "source": [
    "import torch\n",
    "import torch.nn as nn\n",
    "import timm\n",
    "from torch.utils.data import DataLoader, Dataset\n",
    "from torchvision import transforms\n",
    "import os\n",
    "from PIL import Image\n",
    "import numpy as np\n",
    "from sklearn.model_selection import train_test_split"
   ]
  },
  {
   "cell_type": "code",
   "execution_count": null,
   "id": "066cf97a-3249-4c1c-9ba2-e659d64471c6",
   "metadata": {},
   "outputs": [],
   "source": [
    "class AlzheimerDataset(Dataset):\n",
    "    def __init__(self, image_paths, labels, transform=None):\n",
    "        self.image_paths = image_paths\n",
    "        self.labels = labels\n",
    "        self.transform = transform\n",
    "\n",
    "    def __len__(self):\n",
    "        return len(self.image_paths)\n",
    "\n",
    "    def __getitem__(self, idx):\n",
    "        image = Image.open(self.image_paths[idx]).convert('RGB')\n",
    "        label = self.labels[idx]\n",
    "\n",
    "        if self.transform:\n",
    "            image = self.transform(image)\n",
    "\n",
    "        return image, label\n",
    "\n",
    "# Example transformation pipeline\n",
    "transform = transforms.Compose([\n",
    "    transforms.Resize((224, 224)),\n",
    "    transforms.RandomHorizontalFlip(),\n",
    "    transforms.ToTensor(),\n",
    "    transforms.Normalize(mean=[0.485, 0.456, 0.406], std=[0.229, 0.224, 0.225])\n",
    "])"
   ]
  },
  {
   "cell_type": "code",
   "execution_count": null,
   "id": "bce84b75-671a-4688-a1c4-fb1a2b1343e1",
   "metadata": {},
   "outputs": [],
   "source": [
    "# Assuming MRI scans and labels are organized in folders\n",
    "data_dir = 'C:\\Users\\Administrator\\Desktop\\FINAL YEAR PROJECT\\Dataset\\Modified DATASET'\n",
    "image_paths = []\n",
    "labels = []\n",
    "\n",
    "# Load image paths and corresponding labels (adjust based on your folder structure)\n",
    "for label, class_dir in enumerate(['no_impairment', 'very_mild_impairment', 'mild_impairment', 'moderate_impairment']):\n",
    "    full_path = os.path.join(data_dir, class_dir)\n",
    "    for file_name in os.listdir(full_path):\n",
    "        image_paths.append(os.path.join(full_path, file_name))\n",
    "        labels.append(label)\n",
    "\n",
    "# Split dataset into training and testing\n",
    "train_paths, test_paths, train_labels, test_labels = train_test_split(image_paths, labels, test_size=0.2, stratify=labels)\n",
    "\n",
    "# Create datasets\n",
    "train_dataset = AlzheimerDataset(train_paths, train_labels, transform=transform)\n",
    "test_dataset = AlzheimerDataset(test_paths, test_labels, transform=transform)\n",
    "\n",
    "# Create data loaders\n",
    "train_loader = DataLoader(train_dataset, batch_size=32, shuffle=True)\n",
    "test_loader = DataLoader(test_dataset, batch_size=32, shuffle=False)"
   ]
  },
  {
   "cell_type": "code",
   "execution_count": null,
   "id": "25e1270a-9fb6-4b38-ae75-859ddbd1dbc2",
   "metadata": {},
   "outputs": [],
   "source": [
    "class SwinAlzheimerModel(nn.Module):\n",
    "    def __init__(self, num_classes=4):\n",
    "        super(SwinAlzheimerModel, self).__init__()\n",
    "        # Load pre-trained Swin Transformer from timm\n",
    "        self.swin_transformer = timm.create_model('swin_base_patch4_window7_224', pretrained=True)\n",
    "        # Replace classifier head with your custom head\n",
    "        self.swin_transformer.head = nn.Linear(self.swin_transformer.head.in_features, num_classes)\n",
    "\n",
    "    def forward(self, x):\n",
    "        return self.swin_transformer(x)\n",
    "\n",
    "model = SwinAlzheimerModel(num_classes=4).to(device)"
   ]
  },
  {
   "cell_type": "code",
   "execution_count": null,
   "id": "3d2aca01-e35f-4e65-a5fe-e7e96d1e0201",
   "metadata": {},
   "outputs": [],
   "source": [
    "criterion = nn.CrossEntropyLoss()\n",
    "optimizer = torch.optim.Adam(model.parameters(), lr=1e-4)\n",
    "scheduler = torch.optim.lr_scheduler.StepLR(optimizer, step_size=7, gamma=0.1)"
   ]
  },
  {
   "cell_type": "code",
   "execution_count": null,
   "id": "ca269fce-56e9-4eca-8678-f31e6fdb4941",
   "metadata": {},
   "outputs": [],
   "source": [
    "num_epochs = 25\n",
    "\n",
    "for epoch in range(num_epochs):\n",
    "    model.train()\n",
    "    running_loss = 0.0\n",
    "    correct = 0\n",
    "    total = 0\n",
    "    \n",
    "    for images, labels in train_loader:\n",
    "        images, labels = images.to(device), labels.to(device)\n",
    "\n",
    "        optimizer.zero_grad()\n",
    "        outputs = model(images)\n",
    "        loss = criterion(outputs, labels)\n",
    "        loss.backward()\n",
    "        optimizer.step()\n",
    "\n",
    "        running_loss += loss.item()\n",
    "        _, predicted = torch.max(outputs, 1)\n",
    "        total += labels.size(0)\n",
    "        correct += (predicted == labels).sum().item()\n",
    "\n",
    "    train_accuracy = 100 * correct / total\n",
    "    print(f\"Epoch [{epoch+1}/{num_epochs}], Loss: {running_loss:.4f}, Accuracy: {train_accuracy:.2f}%\")\n",
    "    \n",
    "    scheduler.step()\n",
    "\n",
    "# Model evaluation\n",
    "model.eval()\n",
    "with torch.no_grad():\n",
    "    correct = 0\n",
    "    total = 0\n",
    "    for images, labels in test_loader:\n",
    "        images, labels = images.to(device), labels.to(device)\n",
    "        outputs = model(images)\n",
    "        _, predicted = torch.max(outputs, 1)\n",
    "        total += labels.size(0)\n",
    "        correct += (predicted == labels).sum().item()\n",
    "\n",
    "    test_accuracy = 100 * correct / total\n",
    "    print(f\"Test Accuracy: {test_accuracy:.2f}%\")"
   ]
  },
  {
   "cell_type": "code",
   "execution_count": null,
   "id": "c2c34dda-00f2-4fca-9a99-c43643e3329a",
   "metadata": {},
   "outputs": [],
   "source": [
    "torch.save(model.state_dict(), 'swin_transformer_alzheimer.pth')\n",
    "print(\"Saved\")"
   ]
  },
  {
   "cell_type": "code",
   "execution_count": null,
   "id": "a7dae2c9-7647-430f-b000-13420fcb9246",
   "metadata": {},
   "outputs": [],
   "source": [
    "def predict(image_path, model):\n",
    "    image = Image.open(image_path).convert('RGB')\n",
    "    image = transform(image).unsqueeze(0).to(device)\n",
    "\n",
    "    model.eval()\n",
    "    with torch.no_grad():\n",
    "        output = model(image)\n",
    "        _, predicted = torch.max(output, 1)\n",
    "    \n",
    "    return predicted.item()\n",
    "\n",
    "# Example usage\n",
    "prediction = predict('/path_to_mri_image', model)\n",
    "print(f'Predicted class: {prediction}')"
   ]
  },
  {
   "cell_type": "code",
   "execution_count": null,
   "id": "96fc1d00-8505-4b3e-a09f-4f27115303c3",
   "metadata": {},
   "outputs": [],
   "source": [
    "def evaluate_model(model, test_loader, device):\n",
    "    model.eval()  # Set the model to evaluation mode\n",
    "    correct = 0\n",
    "    total = 0\n",
    "\n",
    "    with torch.no_grad():  # Disable gradient computation for efficiency\n",
    "        for images, labels in test_loader:\n",
    "            images, labels = images.to(device), labels.to(device)\n",
    "\n",
    "            # Forward pass\n",
    "            outputs = model(images)\n",
    "            _, predicted = torch.max(outputs, 1)\n",
    "\n",
    "            # Count the total and correctly predicted samples\n",
    "            total += labels.size(0)\n",
    "            correct += (predicted == labels).sum().item()\n",
    "\n",
    "    # Calculate overall accuracy\n",
    "    accuracy = 100 * correct / total\n",
    "    return accuracy\n",
    "\n",
    "# Example usage\n",
    "test_accuracy = evaluate_model(model, test_loader, device)\n",
    "print(f\"Exact Test Accuracy: {test_accuracy:.2f}%\")"
   ]
  }
 ],
 "metadata": {
  "kernelspec": {
   "display_name": "Python 3 (ipykernel)",
   "language": "python",
   "name": "python3"
  },
  "language_info": {
   "codemirror_mode": {
    "name": "ipython",
    "version": 3
   },
   "file_extension": ".py",
   "mimetype": "text/x-python",
   "name": "python",
   "nbconvert_exporter": "python",
   "pygments_lexer": "ipython3",
   "version": "3.10.0"
  }
 },
 "nbformat": 4,
 "nbformat_minor": 5
}
